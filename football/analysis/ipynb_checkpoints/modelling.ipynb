{
 "cells": [
  {
   "attachments": {},
   "cell_type": "markdown",
   "metadata": {},
   "source": [
    "# Modelling Strategie\n",
    "We looking for solve a classification problem like:\\\n",
    "*What range a goal would belongs ?*\n",
    "- Target = **class**\n",
    "- Features = **goal averages for team at home and away**\n",
    "- Model = **Random Forest Classifier**"
   ]
  },
  {
   "cell_type": "code",
   "execution_count": 1,
   "metadata": {},
   "outputs": [],
   "source": [
    "import pandas as pd\n",
    "import numpy as np\n",
    "import matplotlib.pyplot as plt\n",
    "from pathlib import Path\n",
    "import random"
   ]
  },
  {
   "attachments": {},
   "cell_type": "markdown",
   "metadata": {},
   "source": [
    "### Feature Engineering"
   ]
  },
  {
   "cell_type": "code",
   "execution_count": 2,
   "metadata": {},
   "outputs": [
    {
     "data": {
      "text/html": [
       "<div>\n",
       "<style scoped>\n",
       "    .dataframe tbody tr th:only-of-type {\n",
       "        vertical-align: middle;\n",
       "    }\n",
       "\n",
       "    .dataframe tbody tr th {\n",
       "        vertical-align: top;\n",
       "    }\n",
       "\n",
       "    .dataframe thead th {\n",
       "        text-align: right;\n",
       "    }\n",
       "</style>\n",
       "<table border=\"1\" class=\"dataframe\">\n",
       "  <thead>\n",
       "    <tr style=\"text-align: right;\">\n",
       "      <th></th>\n",
       "      <th>journée</th>\n",
       "      <th>home_team</th>\n",
       "      <th>away_team</th>\n",
       "      <th>1st_home_team_goal</th>\n",
       "      <th>1st_away_team_goal</th>\n",
       "      <th>1st_total_goal</th>\n",
       "      <th>2nd_home_team_goal</th>\n",
       "      <th>2nd_away_team_goal</th>\n",
       "      <th>2nd_total_goal</th>\n",
       "      <th>total_home_team_goal</th>\n",
       "      <th>total_away_team_goal</th>\n",
       "      <th>global</th>\n",
       "    </tr>\n",
       "    <tr>\n",
       "      <th>date_time</th>\n",
       "      <th></th>\n",
       "      <th></th>\n",
       "      <th></th>\n",
       "      <th></th>\n",
       "      <th></th>\n",
       "      <th></th>\n",
       "      <th></th>\n",
       "      <th></th>\n",
       "      <th></th>\n",
       "      <th></th>\n",
       "      <th></th>\n",
       "      <th></th>\n",
       "    </tr>\n",
       "  </thead>\n",
       "  <tbody>\n",
       "    <tr>\n",
       "      <th>2023-06-03 19:00:00</th>\n",
       "      <td>38</td>\n",
       "      <td>AC Ajaccio</td>\n",
       "      <td>Marseille</td>\n",
       "      <td>0</td>\n",
       "      <td>0</td>\n",
       "      <td>0</td>\n",
       "      <td>1</td>\n",
       "      <td>0</td>\n",
       "      <td>1</td>\n",
       "      <td>1</td>\n",
       "      <td>0</td>\n",
       "      <td>1</td>\n",
       "    </tr>\n",
       "    <tr>\n",
       "      <th>2023-06-03 19:00:00</th>\n",
       "      <td>38</td>\n",
       "      <td>Nice</td>\n",
       "      <td>Lyon</td>\n",
       "      <td>3</td>\n",
       "      <td>1</td>\n",
       "      <td>4</td>\n",
       "      <td>0</td>\n",
       "      <td>0</td>\n",
       "      <td>0</td>\n",
       "      <td>3</td>\n",
       "      <td>1</td>\n",
       "      <td>4</td>\n",
       "    </tr>\n",
       "    <tr>\n",
       "      <th>2023-06-03 19:00:00</th>\n",
       "      <td>38</td>\n",
       "      <td>Troyes</td>\n",
       "      <td>Lille</td>\n",
       "      <td>0</td>\n",
       "      <td>0</td>\n",
       "      <td>0</td>\n",
       "      <td>1</td>\n",
       "      <td>1</td>\n",
       "      <td>2</td>\n",
       "      <td>1</td>\n",
       "      <td>1</td>\n",
       "      <td>2</td>\n",
       "    </tr>\n",
       "    <tr>\n",
       "      <th>2023-06-03 19:00:00</th>\n",
       "      <td>38</td>\n",
       "      <td>Reims</td>\n",
       "      <td>Montpellier</td>\n",
       "      <td>1</td>\n",
       "      <td>0</td>\n",
       "      <td>1</td>\n",
       "      <td>0</td>\n",
       "      <td>3</td>\n",
       "      <td>3</td>\n",
       "      <td>1</td>\n",
       "      <td>3</td>\n",
       "      <td>4</td>\n",
       "    </tr>\n",
       "    <tr>\n",
       "      <th>2023-06-03 19:00:00</th>\n",
       "      <td>38</td>\n",
       "      <td>PSG</td>\n",
       "      <td>Clermont</td>\n",
       "      <td>2</td>\n",
       "      <td>2</td>\n",
       "      <td>4</td>\n",
       "      <td>0</td>\n",
       "      <td>1</td>\n",
       "      <td>1</td>\n",
       "      <td>2</td>\n",
       "      <td>3</td>\n",
       "      <td>5</td>\n",
       "    </tr>\n",
       "  </tbody>\n",
       "</table>\n",
       "</div>"
      ],
      "text/plain": [
       "                     journée   home_team    away_team  1st_home_team_goal  \\\n",
       "date_time                                                                   \n",
       "2023-06-03 19:00:00       38  AC Ajaccio    Marseille                   0   \n",
       "2023-06-03 19:00:00       38        Nice         Lyon                   3   \n",
       "2023-06-03 19:00:00       38      Troyes        Lille                   0   \n",
       "2023-06-03 19:00:00       38       Reims  Montpellier                   1   \n",
       "2023-06-03 19:00:00       38         PSG     Clermont                   2   \n",
       "\n",
       "                     1st_away_team_goal  1st_total_goal  2nd_home_team_goal  \\\n",
       "date_time                                                                     \n",
       "2023-06-03 19:00:00                   0               0                   1   \n",
       "2023-06-03 19:00:00                   1               4                   0   \n",
       "2023-06-03 19:00:00                   0               0                   1   \n",
       "2023-06-03 19:00:00                   0               1                   0   \n",
       "2023-06-03 19:00:00                   2               4                   0   \n",
       "\n",
       "                     2nd_away_team_goal  2nd_total_goal  total_home_team_goal  \\\n",
       "date_time                                                                       \n",
       "2023-06-03 19:00:00                   0               1                     1   \n",
       "2023-06-03 19:00:00                   0               0                     3   \n",
       "2023-06-03 19:00:00                   1               2                     1   \n",
       "2023-06-03 19:00:00                   3               3                     1   \n",
       "2023-06-03 19:00:00                   1               1                     2   \n",
       "\n",
       "                     total_away_team_goal  global  \n",
       "date_time                                          \n",
       "2023-06-03 19:00:00                     0       1  \n",
       "2023-06-03 19:00:00                     1       4  \n",
       "2023-06-03 19:00:00                     1       2  \n",
       "2023-06-03 19:00:00                     3       4  \n",
       "2023-06-03 19:00:00                     3       5  "
      ]
     },
     "execution_count": 2,
     "metadata": {},
     "output_type": "execute_result"
    }
   ],
   "source": [
    "path = Path.cwd().parent.parent / 'data' / '2022_23' / 'results' / 'ligue1.csv'\n",
    "df = pd.read_csv(path, parse_dates=True, index_col='date_time')\n",
    "df.head()"
   ]
  },
  {
   "cell_type": "code",
   "execution_count": 3,
   "metadata": {},
   "outputs": [],
   "source": [
    "def avg_per_match():\n",
    "    \"\"\"This function will calculate for each team\n",
    "    the average of goal after each journée\n",
    "    \"\"\"\n",
    "    data = df.copy()\n",
    "    data = data.sort_values(by='journée', ascending=True)\n",
    "    data.drop(['1st_home_team_goal', '1st_away_team_goal',\n",
    "               '1st_total_goal', '2nd_home_team_goal', '2nd_away_team_goal',\n",
    "               '2nd_total_goal'], axis=1, inplace=True)\n",
    "    for row in data.iterrows():\n",
    "        at_home = data[data['home_team']==data['home_team']]\n",
    "        at_away = data[data['away_team']==data['away_team']]\n",
    "        data['ht_scored_avg'] = at_home.groupby('home_team')['total_home_team_goal'].transform(lambda x: x.expanding().mean().shift())\n",
    "        data['ht_conceded_avg'] = at_home.groupby('home_team')['total_away_team_goal'].transform(lambda x: x.expanding().mean().shift())\n",
    "        data['at_scored_avg'] = at_away.groupby('away_team')['total_away_team_goal'].transform(lambda x: x.expanding().mean().shift())\n",
    "        data['at_conceded_avg'] = at_away.groupby('away_team')['total_home_team_goal'].transform(lambda x: x.expanding().mean().shift())\n",
    "        data['ht_global_avg'] = at_home.groupby('home_team')['global'].transform(lambda x: x.expanding().mean().shift())\n",
    "        data['at_global_avg'] = at_away.groupby('away_team')['global'].transform(lambda x: x.expanding().mean().shift())\n",
    "    return data"
   ]
  },
  {
   "cell_type": "code",
   "execution_count": 4,
   "metadata": {},
   "outputs": [
    {
     "data": {
      "text/html": [
       "<div>\n",
       "<style scoped>\n",
       "    .dataframe tbody tr th:only-of-type {\n",
       "        vertical-align: middle;\n",
       "    }\n",
       "\n",
       "    .dataframe tbody tr th {\n",
       "        vertical-align: top;\n",
       "    }\n",
       "\n",
       "    .dataframe thead th {\n",
       "        text-align: right;\n",
       "    }\n",
       "</style>\n",
       "<table border=\"1\" class=\"dataframe\">\n",
       "  <thead>\n",
       "    <tr style=\"text-align: right;\">\n",
       "      <th></th>\n",
       "      <th>journée</th>\n",
       "      <th>home_team</th>\n",
       "      <th>away_team</th>\n",
       "      <th>total_home_team_goal</th>\n",
       "      <th>total_away_team_goal</th>\n",
       "      <th>global</th>\n",
       "      <th>ht_scored_avg</th>\n",
       "      <th>ht_conceded_avg</th>\n",
       "      <th>at_scored_avg</th>\n",
       "      <th>at_conceded_avg</th>\n",
       "      <th>ht_global_avg</th>\n",
       "      <th>at_global_avg</th>\n",
       "    </tr>\n",
       "    <tr>\n",
       "      <th>date_time</th>\n",
       "      <th></th>\n",
       "      <th></th>\n",
       "      <th></th>\n",
       "      <th></th>\n",
       "      <th></th>\n",
       "      <th></th>\n",
       "      <th></th>\n",
       "      <th></th>\n",
       "      <th></th>\n",
       "      <th></th>\n",
       "      <th></th>\n",
       "      <th></th>\n",
       "    </tr>\n",
       "  </thead>\n",
       "  <tbody>\n",
       "    <tr>\n",
       "      <th>2023-06-03 19:00:00</th>\n",
       "      <td>38</td>\n",
       "      <td>Monaco</td>\n",
       "      <td>Toulouse</td>\n",
       "      <td>1</td>\n",
       "      <td>2</td>\n",
       "      <td>3</td>\n",
       "      <td>2.000000</td>\n",
       "      <td>1.722222</td>\n",
       "      <td>1.222222</td>\n",
       "      <td>1.611111</td>\n",
       "      <td>3.722222</td>\n",
       "      <td>2.833333</td>\n",
       "    </tr>\n",
       "    <tr>\n",
       "      <th>2023-06-03 19:00:00</th>\n",
       "      <td>38</td>\n",
       "      <td>Brest</td>\n",
       "      <td>Rennes</td>\n",
       "      <td>1</td>\n",
       "      <td>2</td>\n",
       "      <td>3</td>\n",
       "      <td>1.277778</td>\n",
       "      <td>1.333333</td>\n",
       "      <td>1.333333</td>\n",
       "      <td>1.333333</td>\n",
       "      <td>2.611111</td>\n",
       "      <td>2.666667</td>\n",
       "    </tr>\n",
       "    <tr>\n",
       "      <th>2023-06-03 19:00:00</th>\n",
       "      <td>38</td>\n",
       "      <td>Lorient</td>\n",
       "      <td>Strasbourg</td>\n",
       "      <td>2</td>\n",
       "      <td>1</td>\n",
       "      <td>3</td>\n",
       "      <td>1.333333</td>\n",
       "      <td>1.111111</td>\n",
       "      <td>1.388889</td>\n",
       "      <td>1.722222</td>\n",
       "      <td>2.444444</td>\n",
       "      <td>3.111111</td>\n",
       "    </tr>\n",
       "    <tr>\n",
       "      <th>2023-06-03 19:00:00</th>\n",
       "      <td>38</td>\n",
       "      <td>Nantes</td>\n",
       "      <td>Angers</td>\n",
       "      <td>1</td>\n",
       "      <td>0</td>\n",
       "      <td>1</td>\n",
       "      <td>1.055556</td>\n",
       "      <td>1.444444</td>\n",
       "      <td>0.722222</td>\n",
       "      <td>2.444444</td>\n",
       "      <td>2.500000</td>\n",
       "      <td>3.166667</td>\n",
       "    </tr>\n",
       "    <tr>\n",
       "      <th>2023-06-03 19:00:00</th>\n",
       "      <td>38</td>\n",
       "      <td>Auxerre</td>\n",
       "      <td>Lens</td>\n",
       "      <td>1</td>\n",
       "      <td>3</td>\n",
       "      <td>4</td>\n",
       "      <td>0.944444</td>\n",
       "      <td>1.388889</td>\n",
       "      <td>1.333333</td>\n",
       "      <td>0.833333</td>\n",
       "      <td>2.333333</td>\n",
       "      <td>2.166667</td>\n",
       "    </tr>\n",
       "    <tr>\n",
       "      <th>2023-06-03 19:00:00</th>\n",
       "      <td>38</td>\n",
       "      <td>PSG</td>\n",
       "      <td>Clermont</td>\n",
       "      <td>2</td>\n",
       "      <td>3</td>\n",
       "      <td>5</td>\n",
       "      <td>2.388889</td>\n",
       "      <td>1.222222</td>\n",
       "      <td>1.222222</td>\n",
       "      <td>1.055556</td>\n",
       "      <td>3.611111</td>\n",
       "      <td>2.277778</td>\n",
       "    </tr>\n",
       "    <tr>\n",
       "      <th>2023-06-03 19:00:00</th>\n",
       "      <td>38</td>\n",
       "      <td>Reims</td>\n",
       "      <td>Montpellier</td>\n",
       "      <td>1</td>\n",
       "      <td>3</td>\n",
       "      <td>4</td>\n",
       "      <td>1.500000</td>\n",
       "      <td>1.111111</td>\n",
       "      <td>1.833333</td>\n",
       "      <td>1.777778</td>\n",
       "      <td>2.611111</td>\n",
       "      <td>3.611111</td>\n",
       "    </tr>\n",
       "    <tr>\n",
       "      <th>2023-06-03 19:00:00</th>\n",
       "      <td>38</td>\n",
       "      <td>Troyes</td>\n",
       "      <td>Lille</td>\n",
       "      <td>1</td>\n",
       "      <td>1</td>\n",
       "      <td>2</td>\n",
       "      <td>1.000000</td>\n",
       "      <td>1.611111</td>\n",
       "      <td>1.333333</td>\n",
       "      <td>1.000000</td>\n",
       "      <td>2.611111</td>\n",
       "      <td>2.333333</td>\n",
       "    </tr>\n",
       "    <tr>\n",
       "      <th>2023-06-03 19:00:00</th>\n",
       "      <td>38</td>\n",
       "      <td>Nice</td>\n",
       "      <td>Lyon</td>\n",
       "      <td>3</td>\n",
       "      <td>1</td>\n",
       "      <td>4</td>\n",
       "      <td>1.166667</td>\n",
       "      <td>0.944444</td>\n",
       "      <td>1.611111</td>\n",
       "      <td>1.388889</td>\n",
       "      <td>2.111111</td>\n",
       "      <td>3.000000</td>\n",
       "    </tr>\n",
       "    <tr>\n",
       "      <th>2023-06-03 19:00:00</th>\n",
       "      <td>38</td>\n",
       "      <td>AC Ajaccio</td>\n",
       "      <td>Marseille</td>\n",
       "      <td>1</td>\n",
       "      <td>0</td>\n",
       "      <td>1</td>\n",
       "      <td>0.500000</td>\n",
       "      <td>1.666667</td>\n",
       "      <td>1.777778</td>\n",
       "      <td>0.833333</td>\n",
       "      <td>2.166667</td>\n",
       "      <td>2.611111</td>\n",
       "    </tr>\n",
       "  </tbody>\n",
       "</table>\n",
       "</div>"
      ],
      "text/plain": [
       "                     journée   home_team    away_team  total_home_team_goal  \\\n",
       "date_time                                                                     \n",
       "2023-06-03 19:00:00       38      Monaco     Toulouse                     1   \n",
       "2023-06-03 19:00:00       38       Brest       Rennes                     1   \n",
       "2023-06-03 19:00:00       38     Lorient   Strasbourg                     2   \n",
       "2023-06-03 19:00:00       38      Nantes       Angers                     1   \n",
       "2023-06-03 19:00:00       38     Auxerre         Lens                     1   \n",
       "2023-06-03 19:00:00       38         PSG     Clermont                     2   \n",
       "2023-06-03 19:00:00       38       Reims  Montpellier                     1   \n",
       "2023-06-03 19:00:00       38      Troyes        Lille                     1   \n",
       "2023-06-03 19:00:00       38        Nice         Lyon                     3   \n",
       "2023-06-03 19:00:00       38  AC Ajaccio    Marseille                     1   \n",
       "\n",
       "                     total_away_team_goal  global  ht_scored_avg  \\\n",
       "date_time                                                          \n",
       "2023-06-03 19:00:00                     2       3       2.000000   \n",
       "2023-06-03 19:00:00                     2       3       1.277778   \n",
       "2023-06-03 19:00:00                     1       3       1.333333   \n",
       "2023-06-03 19:00:00                     0       1       1.055556   \n",
       "2023-06-03 19:00:00                     3       4       0.944444   \n",
       "2023-06-03 19:00:00                     3       5       2.388889   \n",
       "2023-06-03 19:00:00                     3       4       1.500000   \n",
       "2023-06-03 19:00:00                     1       2       1.000000   \n",
       "2023-06-03 19:00:00                     1       4       1.166667   \n",
       "2023-06-03 19:00:00                     0       1       0.500000   \n",
       "\n",
       "                     ht_conceded_avg  at_scored_avg  at_conceded_avg  \\\n",
       "date_time                                                              \n",
       "2023-06-03 19:00:00         1.722222       1.222222         1.611111   \n",
       "2023-06-03 19:00:00         1.333333       1.333333         1.333333   \n",
       "2023-06-03 19:00:00         1.111111       1.388889         1.722222   \n",
       "2023-06-03 19:00:00         1.444444       0.722222         2.444444   \n",
       "2023-06-03 19:00:00         1.388889       1.333333         0.833333   \n",
       "2023-06-03 19:00:00         1.222222       1.222222         1.055556   \n",
       "2023-06-03 19:00:00         1.111111       1.833333         1.777778   \n",
       "2023-06-03 19:00:00         1.611111       1.333333         1.000000   \n",
       "2023-06-03 19:00:00         0.944444       1.611111         1.388889   \n",
       "2023-06-03 19:00:00         1.666667       1.777778         0.833333   \n",
       "\n",
       "                     ht_global_avg  at_global_avg  \n",
       "date_time                                          \n",
       "2023-06-03 19:00:00       3.722222       2.833333  \n",
       "2023-06-03 19:00:00       2.611111       2.666667  \n",
       "2023-06-03 19:00:00       2.444444       3.111111  \n",
       "2023-06-03 19:00:00       2.500000       3.166667  \n",
       "2023-06-03 19:00:00       2.333333       2.166667  \n",
       "2023-06-03 19:00:00       3.611111       2.277778  \n",
       "2023-06-03 19:00:00       2.611111       3.611111  \n",
       "2023-06-03 19:00:00       2.611111       2.333333  \n",
       "2023-06-03 19:00:00       2.111111       3.000000  \n",
       "2023-06-03 19:00:00       2.166667       2.611111  "
      ]
     },
     "execution_count": 4,
     "metadata": {},
     "output_type": "execute_result"
    }
   ],
   "source": [
    "data = avg_per_match()\n",
    "data.tail(10)"
   ]
  },
  {
   "cell_type": "code",
   "execution_count": 61,
   "metadata": {},
   "outputs": [],
   "source": []
  },
  {
   "attachments": {},
   "cell_type": "markdown",
   "metadata": {},
   "source": [
    "### Modelling"
   ]
  },
  {
   "cell_type": "code",
   "execution_count": 5,
   "metadata": {},
   "outputs": [],
   "source": [
    "from sklearn.model_selection import train_test_split, cross_val_score, GridSearchCV, learning_curve\n",
    "from sklearn.ensemble import RandomForestClassifier\n",
    "from sklearn.preprocessing import LabelEncoder\n",
    "from sklearn.pipeline import make_pipeline\n",
    "from sklearn.compose import make_column_transformer\n",
    "from sklearn.metrics import accuracy_score, classification_report, confusion_matrix\n",
    "from sklearn.model_selection import RandomizedSearchCV"
   ]
  },
  {
   "cell_type": "code",
   "execution_count": 6,
   "metadata": {},
   "outputs": [
    {
     "name": "stdout",
     "output_type": "stream",
     "text": [
      "<class 'pandas.core.frame.DataFrame'>\n",
      "DatetimeIndex: 380 entries, 2022-08-05 19:00:00 to 2023-06-03 19:00:00\n",
      "Data columns (total 12 columns):\n",
      " #   Column                Non-Null Count  Dtype  \n",
      "---  ------                --------------  -----  \n",
      " 0   journée               380 non-null    int64  \n",
      " 1   home_team             380 non-null    object \n",
      " 2   away_team             380 non-null    object \n",
      " 3   total_home_team_goal  380 non-null    int64  \n",
      " 4   total_away_team_goal  380 non-null    int64  \n",
      " 5   global                380 non-null    int64  \n",
      " 6   ht_scored_avg         360 non-null    float64\n",
      " 7   ht_conceded_avg       360 non-null    float64\n",
      " 8   at_scored_avg         360 non-null    float64\n",
      " 9   at_conceded_avg       360 non-null    float64\n",
      " 10  ht_global_avg         360 non-null    float64\n",
      " 11  at_global_avg         360 non-null    float64\n",
      "dtypes: float64(6), int64(4), object(2)\n",
      "memory usage: 38.6+ KB\n"
     ]
    }
   ],
   "source": [
    "data.info()"
   ]
  },
  {
   "cell_type": "code",
   "execution_count": 7,
   "metadata": {},
   "outputs": [],
   "source": [
    "# we started to drop columns which contains missing values\n",
    "# and non reliable columns\n",
    "dataset = data[data['journée'] > 2]"
   ]
  },
  {
   "cell_type": "code",
   "execution_count": 8,
   "metadata": {},
   "outputs": [
    {
     "name": "stderr",
     "output_type": "stream",
     "text": [
      "/tmp/ipykernel_4700/2261343204.py:2: SettingWithCopyWarning: \n",
      "A value is trying to be set on a copy of a slice from a DataFrame.\n",
      "Try using .loc[row_indexer,col_indexer] = value instead\n",
      "\n",
      "See the caveats in the documentation: https://pandas.pydata.org/pandas-docs/stable/user_guide/indexing.html#returning-a-view-versus-a-copy\n",
      "  dataset['class'] = pd.cut(x=dataset['total_home_team_goal'], bins=[min(dataset['total_home_team_goal']), 2, max(dataset['total_home_team_goal'])],\n"
     ]
    }
   ],
   "source": [
    "labels_name = ['under 2,5', 'over 2,5']\n",
    "dataset['class'] = pd.cut(x=dataset['total_home_team_goal'], bins=[min(dataset['total_home_team_goal']), 2, max(dataset['total_home_team_goal'])],\n",
    "              labels=labels_name, include_lowest=True)"
   ]
  },
  {
   "cell_type": "code",
   "execution_count": 9,
   "metadata": {},
   "outputs": [
    {
     "name": "stderr",
     "output_type": "stream",
     "text": [
      "/tmp/ipykernel_4700/1410961397.py:5: SettingWithCopyWarning: \n",
      "A value is trying to be set on a copy of a slice from a DataFrame.\n",
      "Try using .loc[row_indexer,col_indexer] = value instead\n",
      "\n",
      "See the caveats in the documentation: https://pandas.pydata.org/pandas-docs/stable/user_guide/indexing.html#returning-a-view-versus-a-copy\n",
      "  dataset['class'] = dataset['class'].map(encod)\n"
     ]
    }
   ],
   "source": [
    "encod = {\n",
    "    'under 2,5': 0,\n",
    "    'over 2,5': 1,\n",
    "}\n",
    "dataset['class'] = dataset['class'].map(encod)"
   ]
  },
  {
   "cell_type": "code",
   "execution_count": 10,
   "metadata": {},
   "outputs": [
    {
     "name": "stdout",
     "output_type": "stream",
     "text": [
      "<class 'pandas.core.frame.DataFrame'>\n",
      "DatetimeIndex: 360 entries, 2022-08-21 18:45:00 to 2023-06-03 19:00:00\n",
      "Data columns (total 13 columns):\n",
      " #   Column                Non-Null Count  Dtype   \n",
      "---  ------                --------------  -----   \n",
      " 0   journée               360 non-null    int64   \n",
      " 1   home_team             360 non-null    object  \n",
      " 2   away_team             360 non-null    object  \n",
      " 3   total_home_team_goal  360 non-null    int64   \n",
      " 4   total_away_team_goal  360 non-null    int64   \n",
      " 5   global                360 non-null    int64   \n",
      " 6   ht_scored_avg         360 non-null    float64 \n",
      " 7   ht_conceded_avg       360 non-null    float64 \n",
      " 8   at_scored_avg         360 non-null    float64 \n",
      " 9   at_conceded_avg       360 non-null    float64 \n",
      " 10  ht_global_avg         360 non-null    float64 \n",
      " 11  at_global_avg         360 non-null    float64 \n",
      " 12  class                 360 non-null    category\n",
      "dtypes: category(1), float64(6), int64(4), object(2)\n",
      "memory usage: 37.0+ KB\n"
     ]
    }
   ],
   "source": [
    "dataset.info()"
   ]
  },
  {
   "cell_type": "code",
   "execution_count": 12,
   "metadata": {},
   "outputs": [],
   "source": [
    "y = dataset['class']\n",
    "X = dataset[['ht_scored_avg', 'at_conceded_avg']]"
   ]
  },
  {
   "cell_type": "code",
   "execution_count": 13,
   "metadata": {},
   "outputs": [
    {
     "data": {
      "text/plain": [
       "GridSearchCV(cv=5, estimator=RandomForestClassifier(random_state=0),\n",
       "             param_grid=[{'max_depth': range(1, 15),\n",
       "                          'n_estimators': range(1, 15)}],\n",
       "             scoring='accuracy')"
      ]
     },
     "execution_count": 13,
     "metadata": {},
     "output_type": "execute_result"
    }
   ],
   "source": [
    "x_train, x_test, y_train, y_test = train_test_split(X, y, test_size=0.3)\n",
    "parameter = [{'n_estimators': range(1, 15),\n",
    "             'max_depth':range(1, 15)}]\n",
    "grid = GridSearchCV(estimator=RandomForestClassifier(random_state=0), param_grid=parameter, \n",
    "                    scoring='accuracy', cv=5)\n",
    "grid.fit(x_train, y_train)"
   ]
  },
  {
   "cell_type": "code",
   "execution_count": 14,
   "metadata": {},
   "outputs": [
    {
     "name": "stdout",
     "output_type": "stream",
     "text": [
      "RandomForestClassifier(max_depth=5, n_estimators=7, random_state=0)\n",
      "0.8332549019607842\n"
     ]
    }
   ],
   "source": [
    "print(grid.best_estimator_)\n",
    "print(grid.best_score_)"
   ]
  },
  {
   "cell_type": "code",
   "execution_count": 15,
   "metadata": {},
   "outputs": [
    {
     "name": "stdout",
     "output_type": "stream",
     "text": [
      "score RandomForestClassifier: 0.7407407407407407\n",
      "[[79  6]\n",
      " [22  1]]\n"
     ]
    }
   ],
   "source": [
    "model = grid.best_estimator_\n",
    "print(f\"score {model.__class__.__name__}: {model.score(x_test, y_test)}\")\n",
    "print(confusion_matrix(y_test, model.predict(x_test)))"
   ]
  },
  {
   "cell_type": "code",
   "execution_count": 16,
   "metadata": {},
   "outputs": [],
   "source": [
    "N, train_score, val_score = learning_curve(\n",
    "    model, x_train, y_train, train_sizes= np.linspace(0.1, 1.0, 10), cv=5\n",
    ")"
   ]
  },
  {
   "cell_type": "code",
   "execution_count": 17,
   "metadata": {},
   "outputs": [
    {
     "name": "stdout",
     "output_type": "stream",
     "text": [
      "[ 20  40  60  80 100 120 140 160 180 201]\n"
     ]
    },
    {
     "data": {
      "text/plain": [
       "<matplotlib.legend.Legend at 0x7fe0e8c7bbb0>"
      ]
     },
     "execution_count": 17,
     "metadata": {},
     "output_type": "execute_result"
    },
    {
     "data": {
      "image/png": "[encoded data removed]",
      "text/plain": [
       "<Figure size 640x480 with 1 Axes>"
      ]
     },
     "metadata": {},
     "output_type": "display_data"
    }
   ],
   "source": [
    "print(N)\n",
    "plt.plot(N, train_score.mean(axis=1), label='train')\n",
    "plt.plot(N, val_score.mean(axis=1), label='validation')\n",
    "plt.xlabel('train size')\n",
    "plt.legend()"
   ]
  }
 ],
 "metadata": {
  "kernelspec": {
   "display_name": "datascience",
   "language": "python",
   "name": "python3"
  },
  "language_info": {
   "codemirror_mode": {
    "name": "ipython",
    "version": 3
   },
   "file_extension": ".py",
   "mimetype": "text/x-python",
   "name": "python",
   "nbconvert_exporter": "python",
   "pygments_lexer": "ipython3",
   "version": "3.9.15"
  },
  "orig_nbformat": 4,
  "vscode": {
   "interpreter": {
    "hash": "184c60a52c6863f6b4ac6b5a10ace7b17bfab9e1374defa99798890735e99e1f"
   }
  }
 },
 "nbformat": 4,
 "nbformat_minor": 2
}
